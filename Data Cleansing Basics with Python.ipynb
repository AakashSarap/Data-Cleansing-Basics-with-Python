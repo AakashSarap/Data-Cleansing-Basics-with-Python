{
 "cells": [
  {
   "cell_type": "code",
   "execution_count": 5,
   "metadata": {},
   "outputs": [],
   "source": [
    "#importing the required libraries\n",
    "import pandas as pd\n",
    "import numpy as np"
   ]
  },
  {
   "cell_type": "code",
   "execution_count": 6,
   "metadata": {
    "scrolled": true
   },
   "outputs": [],
   "source": [
    "#importing the dataset as a dataframe\n",
    "df = pd.read_csv('Missing Values.csv')"
   ]
  },
  {
   "cell_type": "code",
   "execution_count": 7,
   "metadata": {
    "scrolled": true
   },
   "outputs": [
    {
     "name": "stdout",
     "output_type": "stream",
     "text": [
      "           PID  ST_NUM    ST_NAME OWN_OCCUPIED NUM_BEDROOMS NUM_BATH SQ_FT\n",
      "0  100001000.0   104.0     PUTNAM            Y            3        1  1000\n",
      "1  100002000.0   197.0  LEXINGTON            N            3      1.5    --\n",
      "2  100003000.0     NaN  LEXINGTON            N          NaN        1   850\n",
      "3  100004000.0   201.0   BERKELEY           12            1      NaN   700\n",
      "4          NaN   203.0   BERKELEY            Y            3        2  1600\n"
     ]
    }
   ],
   "source": [
    "# displaying the head of dataset\n",
    "print(df.head())"
   ]
  },
  {
   "cell_type": "code",
   "execution_count": 8,
   "metadata": {},
   "outputs": [
    {
     "data": {
      "text/plain": [
       "PID             float64\n",
       "ST_NUM          float64\n",
       "ST_NAME          object\n",
       "OWN_OCCUPIED     object\n",
       "NUM_BEDROOMS     object\n",
       "NUM_BATH         object\n",
       "SQ_FT            object\n",
       "dtype: object"
      ]
     },
     "execution_count": 8,
     "metadata": {},
     "output_type": "execute_result"
    }
   ],
   "source": [
    "#Checking the data type of the columns in dataframe \n",
    "df.dtypes"
   ]
  },
  {
   "cell_type": "code",
   "execution_count": 9,
   "metadata": {},
   "outputs": [],
   "source": [
    "# Changing the data type of one column from 'object' to 'String'\n",
    "df['OWN_OCCUPIED'] = df['OWN_OCCUPIED'].astype(str)"
   ]
  },
  {
   "cell_type": "code",
   "execution_count": 10,
   "metadata": {},
   "outputs": [
    {
     "name": "stdout",
     "output_type": "stream",
     "text": [
      "0    104.0\n",
      "1    197.0\n",
      "2      NaN\n",
      "3    201.0\n",
      "4    203.0\n",
      "5    207.0\n",
      "6      NaN\n",
      "7    213.0\n",
      "8    215.0\n",
      "Name: ST_NUM, dtype: float64\n"
     ]
    },
    {
     "data": {
      "text/plain": [
       "0    False\n",
       "1    False\n",
       "2     True\n",
       "3    False\n",
       "4    False\n",
       "5    False\n",
       "6     True\n",
       "7    False\n",
       "8    False\n",
       "Name: ST_NUM, dtype: bool"
      ]
     },
     "execution_count": 10,
     "metadata": {},
     "output_type": "execute_result"
    }
   ],
   "source": [
    "# Looking at the Missing Values in Street Number Column\n",
    "print(df['ST_NUM'])\n",
    "df['ST_NUM'].isnull()"
   ]
  },
  {
   "cell_type": "code",
   "execution_count": 11,
   "metadata": {},
   "outputs": [
    {
     "name": "stdout",
     "output_type": "stream",
     "text": [
      "0      3\n",
      "1      3\n",
      "2    NaN\n",
      "3      1\n",
      "4      3\n",
      "5    NaN\n",
      "6      2\n",
      "7      1\n",
      "8     na\n",
      "Name: NUM_BEDROOMS, dtype: object\n"
     ]
    },
    {
     "data": {
      "text/plain": [
       "0    False\n",
       "1    False\n",
       "2     True\n",
       "3    False\n",
       "4    False\n",
       "5     True\n",
       "6    False\n",
       "7    False\n",
       "8    False\n",
       "Name: NUM_BEDROOMS, dtype: bool"
      ]
     },
     "execution_count": 11,
     "metadata": {},
     "output_type": "execute_result"
    }
   ],
   "source": [
    "# Analyzing what missing values are recognized by pandas\n",
    "print(df['NUM_BEDROOMS'])\n",
    "df['NUM_BEDROOMS'].isnull()"
   ]
  },
  {
   "cell_type": "code",
   "execution_count": 12,
   "metadata": {},
   "outputs": [],
   "source": [
    "# making a list of missing values so that pandas recognizes them while reading the csv\n",
    "\n",
    "missing_values = [\"n/a\", \"na\", \"--\"]\n",
    "df = pd.read_csv(\"Missing Values.csv\", na_values = missing_values)"
   ]
  },
  {
   "cell_type": "code",
   "execution_count": 13,
   "metadata": {
    "scrolled": true
   },
   "outputs": [
    {
     "name": "stdout",
     "output_type": "stream",
     "text": [
      "0    3.0\n",
      "1    3.0\n",
      "2    NaN\n",
      "3    1.0\n",
      "4    3.0\n",
      "5    NaN\n",
      "6    2.0\n",
      "7    1.0\n",
      "8    NaN\n",
      "Name: NUM_BEDROOMS, dtype: float64\n"
     ]
    },
    {
     "data": {
      "text/plain": [
       "0    False\n",
       "1    False\n",
       "2     True\n",
       "3    False\n",
       "4    False\n",
       "5     True\n",
       "6    False\n",
       "7    False\n",
       "8     True\n",
       "Name: NUM_BEDROOMS, dtype: bool"
      ]
     },
     "execution_count": 13,
     "metadata": {},
     "output_type": "execute_result"
    }
   ],
   "source": [
    "# looking into the bedroom column\n",
    "\n",
    "print(df['NUM_BEDROOMS'])\n",
    "df['NUM_BEDROOMS'].isnull()"
   ]
  },
  {
   "cell_type": "code",
   "execution_count": 14,
   "metadata": {},
   "outputs": [
    {
     "name": "stdout",
     "output_type": "stream",
     "text": [
      "0      Y\n",
      "1      N\n",
      "2      N\n",
      "3     12\n",
      "4      Y\n",
      "5      Y\n",
      "6    NaN\n",
      "7      Y\n",
      "8      Y\n",
      "Name: OWN_OCCUPIED, dtype: object\n"
     ]
    },
    {
     "data": {
      "text/plain": [
       "0    False\n",
       "1    False\n",
       "2    False\n",
       "3    False\n",
       "4    False\n",
       "5    False\n",
       "6     True\n",
       "7    False\n",
       "8    False\n",
       "Name: OWN_OCCUPIED, dtype: bool"
      ]
     },
     "execution_count": 14,
     "metadata": {},
     "output_type": "execute_result"
    }
   ],
   "source": [
    "print(df['OWN_OCCUPIED'])\n",
    "df['OWN_OCCUPIED'].isnull()"
   ]
  },
  {
   "cell_type": "code",
   "execution_count": 16,
   "metadata": {},
   "outputs": [],
   "source": [
    "# Detecting numbers in categorical Variable\n",
    "\n",
    "count = 0 \n",
    "for i in df['OWN_OCCUPIED']:\n",
    "    try:\n",
    "        int(i)\n",
    "        df.loc[count, 'OWN_OCCUPIED']= np.nan\n",
    "    except ValueError:\n",
    "        pass\n",
    "    count += 1    "
   ]
  },
  {
   "cell_type": "code",
   "execution_count": 17,
   "metadata": {},
   "outputs": [
    {
     "data": {
      "text/plain": [
       "PID             1\n",
       "ST_NUM          2\n",
       "ST_NAME         0\n",
       "OWN_OCCUPIED    2\n",
       "NUM_BEDROOMS    3\n",
       "NUM_BATH        1\n",
       "SQ_FT           2\n",
       "dtype: int64"
      ]
     },
     "execution_count": 17,
     "metadata": {},
     "output_type": "execute_result"
    }
   ],
   "source": [
    "# Summarizing Missing Values\n",
    "df.isnull().sum()"
   ]
  },
  {
   "cell_type": "code",
   "execution_count": 19,
   "metadata": {},
   "outputs": [
    {
     "data": {
      "text/plain": [
       "11"
      ]
     },
     "execution_count": 19,
     "metadata": {},
     "output_type": "execute_result"
    }
   ],
   "source": [
    "# total count of missing values in the DataFrame\n",
    "\n",
    "df.isnull().sum().sum()"
   ]
  },
  {
   "cell_type": "code",
   "execution_count": 26,
   "metadata": {},
   "outputs": [
    {
     "name": "stdout",
     "output_type": "stream",
     "text": [
      "0    104.0\n",
      "1    197.0\n",
      "2    125.0\n",
      "3    201.0\n",
      "4    203.0\n",
      "5    207.0\n",
      "6    125.0\n",
      "7    213.0\n",
      "8    215.0\n",
      "Name: ST_NUM, dtype: float64\n",
      "0    104.0\n",
      "1    197.0\n",
      "2    125.0\n",
      "3    201.0\n",
      "4    203.0\n",
      "5    207.0\n",
      "6    125.0\n",
      "7    213.0\n",
      "8    215.0\n",
      "Name: ST_NUM, dtype: float64\n"
     ]
    }
   ],
   "source": [
    "# Replacing the missing values wiht a number\n",
    "\n",
    "df['ST_NUM'].fillna(125, inplace = True)\n",
    "\n",
    "print(df['ST_NUM'])\n",
    "\n",
    "# Replacement based on location\n",
    "\n",
    "df.loc[2, 'ST_NUM'] = 125\n",
    "\n",
    "print(df['ST_NUM'])"
   ]
  },
  {
   "cell_type": "code",
   "execution_count": 29,
   "metadata": {},
   "outputs": [
    {
     "name": "stdout",
     "output_type": "stream",
     "text": [
      "2.5\n",
      "0    3.0\n",
      "1    3.0\n",
      "2    NaN\n",
      "3    1.0\n",
      "4    3.0\n",
      "5    NaN\n",
      "6    2.0\n",
      "7    1.0\n",
      "8    NaN\n",
      "Name: NUM_BEDROOMS, dtype: float64\n",
      "0    3.0\n",
      "1    3.0\n",
      "2    2.5\n",
      "3    1.0\n",
      "4    3.0\n",
      "5    2.5\n",
      "6    2.0\n",
      "7    1.0\n",
      "8    2.5\n",
      "Name: NUM_BEDROOMS, dtype: float64\n"
     ]
    }
   ],
   "source": [
    "# Replacing values with Median\n",
    "\n",
    "median = df['NUM_BEDROOMS'].median()\n",
    "print(median)\n",
    "print(df['NUM_BEDROOMS'])\n",
    "df['NUM_BEDROOMS'].fillna(median, inplace = True)\n",
    "print(df['NUM_BEDROOMS'])"
   ]
  }
 ],
 "metadata": {
  "kernelspec": {
   "display_name": "Python 3",
   "language": "python",
   "name": "python3"
  },
  "language_info": {
   "codemirror_mode": {
    "name": "ipython",
    "version": 3
   },
   "file_extension": ".py",
   "mimetype": "text/x-python",
   "name": "python",
   "nbconvert_exporter": "python",
   "pygments_lexer": "ipython3",
   "version": "3.7.3"
  }
 },
 "nbformat": 4,
 "nbformat_minor": 2
}
